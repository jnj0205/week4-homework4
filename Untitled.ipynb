{
 "cells": [
  {
   "cell_type": "code",
   "execution_count": null,
   "id": "3e7f0b9e",
   "metadata": {},
   "outputs": [],
   "source": [
    "Exercise #1\n",
    "Filter out all of the empty strings from the list below\n",
    "\n",
    "Output: ['Argentina', 'San Diego', 'Boston', 'New York']"
   ]
  },
  {
   "cell_type": "code",
   "execution_count": null,
   "id": "7c6b08b5",
   "metadata": {},
   "outputs": [],
   "source": [
    "places = [\" \",\"Argentina\", \" \", \"San Diego\",\"\",\"  \",\"\",\"Boston\",\"New York\", \"DC\"]\n",
    "new_places = list(filter(lambda x:x != \" \", places))\n",
    "print(new_places)\n",
    "    "
   ]
  },
  {
   "cell_type": "code",
   "execution_count": null,
   "id": "aa0507f8",
   "metadata": {},
   "outputs": [],
   "source": [
    "Exercise #2\n",
    "Write an anonymous function that sorts this list by the last name...\n",
    "Hint: Use the \".sort()\" method and access the key\"\n",
    "\n",
    "Output: ['Victor aNisimov', 'Gary A.J. Bernstein', 'Joel Carter', 'Andrew P. Garfield', 'David hassELHOFF']"
   ]
  },
  {
   "cell_type": "code",
   "execution_count": null,
   "id": "6f791434",
   "metadata": {},
   "outputs": [],
   "source": [
    "author = [\"Joel Carter\", \"Victor aNisimov\", \"Andrew P. Garfield\",\"David hassELHOFF\",\"Gary A.J. Bernstein\"]\n",
    "author.sort(key=lambda name:name)\n",
    "print(author)"
   ]
  },
  {
   "cell_type": "code",
   "execution_count": null,
   "id": "453ee5a3",
   "metadata": {},
   "outputs": [],
   "source": [
    "Exercise #3\n",
    "¶\n",
    "Convert the list below from Celsius to Farhenheit, using the map function with a lambda...\n",
    "\n",
    "Output: [('Nashua', 89.6), ('Boston', 53.6), ('Los Angeles', 111.2), ('Miami', 84.2)] "
   ]
  },
  {
   "cell_type": "code",
   "execution_count": null,
   "id": "bbb7bfb9",
   "metadata": {},
   "outputs": [],
   "source": [
    "# F = (9/5)*C + 32\n",
    "places = [('Nashua',32),(\"Boston\",12),(\"Los Angelos\",44),(\"Miami\",29)]\n",
    "newplaces = list(map(lambda c:  (c[0], (9/5) * c[1]+ 32), places))\n",
    "print(newplaces)"
   ]
  },
  {
   "cell_type": "code",
   "execution_count": null,
   "id": "14125722",
   "metadata": {},
   "outputs": [],
   "source": [
    "Exercise #4\n",
    "Write a recursion function to perform the fibonacci sequence up to the number passed in.\n",
    "\n",
    "fib(1) = 0\n",
    "fib(2) = 1\n",
    "fib(3) = 1\n",
    "fib(4) = 2\n",
    "fib(5) = 3\n",
    "fib(6) = 5\n",
    "fib(7) = 8\n",
    "fib(8) = 13\n",
    "fib(9) = 21\n",
    "fib(10) = 34\n",
    "fib(11) = 55\n",
    "fib(12) = 89\n",
    "fib(13) = 144"
   ]
  },
  {
   "cell_type": "code",
   "execution_count": null,
   "id": "b34dbaf3",
   "metadata": {},
   "outputs": [],
   "source": []
  }
 ],
 "metadata": {
  "kernelspec": {
   "display_name": "Python 3 (ipykernel)",
   "language": "python",
   "name": "python3"
  },
  "language_info": {
   "codemirror_mode": {
    "name": "ipython",
    "version": 3
   },
   "file_extension": ".py",
   "mimetype": "text/x-python",
   "name": "python",
   "nbconvert_exporter": "python",
   "pygments_lexer": "ipython3",
   "version": "3.10.9"
  }
 },
 "nbformat": 4,
 "nbformat_minor": 5
}
